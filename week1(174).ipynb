{
  "nbformat": 4,
  "nbformat_minor": 0,
  "metadata": {
    "colab": {
      "provenance": [],
      "authorship_tag": "ABX9TyPhWyuQv7d5GrfYLeJWlXcp",
      "include_colab_link": true
    },
    "kernelspec": {
      "name": "python3",
      "display_name": "Python 3"
    },
    "language_info": {
      "name": "python"
    }
  },
  "cells": [
    {
      "cell_type": "markdown",
      "metadata": {
        "id": "view-in-github",
        "colab_type": "text"
      },
      "source": [
        "<a href=\"https://colab.research.google.com/github/JaynthReddy91/dav_assignment/blob/main/week1(174).ipynb\" target=\"_parent\"><img src=\"https://colab.research.google.com/assets/colab-badge.svg\" alt=\"Open In Colab\"/></a>"
      ]
    },
    {
      "cell_type": "code",
      "execution_count": null,
      "metadata": {
        "colab": {
          "base_uri": "https://localhost:8080/"
        },
        "id": "PjTF18QuwZFb",
        "outputId": "d0c793f7-50a4-409a-f878-f4353a7d8249"
      },
      "outputs": [
        {
          "output_type": "stream",
          "name": "stdout",
          "text": [
            "0     a\n",
            "1     b\n",
            "2     c\n",
            "3     d\n",
            "4     e\n",
            "5     f\n",
            "6     g\n",
            "7     h\n",
            "8     i\n",
            "9     j\n",
            "10    k\n",
            "11    l\n",
            "12    m\n",
            "13    n\n",
            "14    o\n",
            "15    p\n",
            "16    q\n",
            "17    r\n",
            "18    s\n",
            "19    t\n",
            "20    u\n",
            "21    v\n",
            "22    w\n",
            "23    x\n",
            "24    y\n",
            "25    z\n",
            "dtype: object\n"
          ]
        }
      ],
      "source": [
        "import pandas as pd\n",
        "alphabets=pd.Series(['a','b','c','d','e','f','g','h','i','j','k','l','m','n','o','p','q','r','s','t','u','v','w','x','y','z'])\n",
        "print(alphabets)\n",
        "\n"
      ]
    },
    {
      "cell_type": "code",
      "source": [
        "import pandas as pd\n",
        "\n",
        "# Step 1 & 2: Create the Series\n",
        "vowels = pd.Series([0, 0, 0, 0, 0], index=['a', 'e', 'i', 'o', 'u'])\n",
        "\n",
        "# Step 3 & 4: Check if it's empty\n",
        "print(vowels)\n",
        "print(vowels.empty)\n"
      ],
      "metadata": {
        "id": "KaixVpVUxbRa",
        "colab": {
          "base_uri": "https://localhost:8080/"
        },
        "outputId": "85547ab7-566c-4704-b73c-5f3f0387050b"
      },
      "execution_count": null,
      "outputs": [
        {
          "output_type": "stream",
          "name": "stdout",
          "text": [
            "a    0\n",
            "e    0\n",
            "i    0\n",
            "o    0\n",
            "u    0\n",
            "dtype: int64\n",
            "False\n"
          ]
        }
      ]
    },
    {
      "cell_type": "code",
      "source": [
        "import pandas as pd\n",
        "\n",
        "data = {\"pasham\": 199, \"sarikella\": 200}\n",
        "f = pd.DataFrame(list(data.items()), columns=[\"name\", \"roll\"])\n",
        "print(f)\n"
      ],
      "metadata": {
        "colab": {
          "base_uri": "https://localhost:8080/"
        },
        "id": "GDf2M_BlcKOy",
        "outputId": "d2c4af6b-c4eb-4626-a7d0-db7ea481081d"
      },
      "execution_count": null,
      "outputs": [
        {
          "output_type": "stream",
          "name": "stdout",
          "text": [
            "        name  roll\n",
            "0     pasham   199\n",
            "1  sarikella   200\n"
          ]
        }
      ]
    },
    {
      "cell_type": "code",
      "source": [
        "mtseries=pd.Series([])\n",
        "print(mtseries)\n",
        "print(mtseries.empty)"
      ],
      "metadata": {
        "colab": {
          "base_uri": "https://localhost:8080/"
        },
        "id": "IKRJbjeaee-Q",
        "outputId": "9ba6404f-b250-438f-b526-cf4ee391c209"
      },
      "execution_count": null,
      "outputs": [
        {
          "output_type": "stream",
          "name": "stdout",
          "text": [
            "Series([], dtype: object)\n",
            "True\n"
          ]
        }
      ]
    },
    {
      "cell_type": "code",
      "source": [
        "import numpy as np\n",
        "import pandas as pd\n",
        "\n",
        "# Step 1: Days in each month (non-leap year)\n",
        "days = np.array([31, 28, 31, 30, 31, 30, 31, 31, 30, 31, 30, 31])\n",
        "\n",
        "# Step 2: Create the Series with labels 1 to 12\n",
        "MonthDays = pd.Series(days, index=range(1, 13))\n",
        "\n",
        "# Step 3: Print the Series\n",
        "print(MonthDays)\n"
      ],
      "metadata": {
        "colab": {
          "base_uri": "https://localhost:8080/"
        },
        "id": "84Wo0QxafVpQ",
        "outputId": "2873e932-e5e4-4911-8094-5e7302516ed1"
      },
      "execution_count": null,
      "outputs": [
        {
          "output_type": "stream",
          "name": "stdout",
          "text": [
            "1     31\n",
            "2     28\n",
            "3     31\n",
            "4     30\n",
            "5     31\n",
            "6     30\n",
            "7     31\n",
            "8     31\n",
            "9     30\n",
            "10    31\n",
            "11    30\n",
            "12    31\n",
            "dtype: int64\n"
          ]
        }
      ]
    },
    {
      "cell_type": "code",
      "source": [
        "vowels[:]=10\n",
        "print(vowels)"
      ],
      "metadata": {
        "colab": {
          "base_uri": "https://localhost:8080/"
        },
        "id": "g9RBOnoIfauH",
        "outputId": "7fb69575-3f26-4a6e-aea8-16c5f83301d3"
      },
      "execution_count": null,
      "outputs": [
        {
          "output_type": "stream",
          "name": "stdout",
          "text": [
            "a    10\n",
            "e    10\n",
            "i    10\n",
            "o    10\n",
            "u    10\n",
            "dtype: int64\n"
          ]
        }
      ]
    },
    {
      "cell_type": "code",
      "source": [
        "vowels=vowels/2\n",
        "print(vowels)"
      ],
      "metadata": {
        "colab": {
          "base_uri": "https://localhost:8080/"
        },
        "id": "8uvFT4UQgRK6",
        "outputId": "f5ecb847-4e67-4c15-86b3-1e2eb721fc21"
      },
      "execution_count": null,
      "outputs": [
        {
          "output_type": "stream",
          "name": "stdout",
          "text": [
            "a    5.0\n",
            "e    5.0\n",
            "i    5.0\n",
            "o    5.0\n",
            "u    5.0\n",
            "dtype: float64\n"
          ]
        }
      ]
    },
    {
      "cell_type": "code",
      "source": [
        "vowels1=pd.Series([2,5,3,6,8],index=[\"a\",'e','i','o','u'])\n",
        "print(vowels1)"
      ],
      "metadata": {
        "colab": {
          "base_uri": "https://localhost:8080/"
        },
        "id": "qgfIP6bzgmO3",
        "outputId": "c34a5682-157d-4040-d9bc-6b51984667fc"
      },
      "execution_count": null,
      "outputs": [
        {
          "output_type": "stream",
          "name": "stdout",
          "text": [
            "a    2\n",
            "e    5\n",
            "i    3\n",
            "o    6\n",
            "u    8\n",
            "dtype: int64\n"
          ]
        }
      ]
    },
    {
      "cell_type": "code",
      "source": [
        "import pandas as pd\n",
        "\n",
        "# Define the data as a dictionary of lists\n",
        "data = {\n",
        "    '2014': [100.5, 150.8, 200.9, 30000, 40000],\n",
        "    '2015': [12000, 18000, 22000, 30000, 45000],\n",
        "    '2016': [20000, 50000, 70000, 100000, 125000],\n",
        "    '2017': [50000, 60000, 70000, 80000, 90000]\n",
        "}\n",
        "\n",
        "# Define the row labels (sales persons)\n",
        "index = ['Madhu', 'Kusum', 'Kinshuk', 'Ankit', 'Shruti']\n",
        "\n",
        "# Create the DataFrame\n",
        "Sales = pd.DataFrame(data, index=index)\n",
        "\n",
        "# Display the DataFrame\n",
        "print(Sales)\n"
      ],
      "metadata": {
        "colab": {
          "base_uri": "https://localhost:8080/"
        },
        "id": "Zq6ZE81s2FnM",
        "outputId": "fd51bf78-ee3b-4c78-e093-0f72d3ff080a"
      },
      "execution_count": null,
      "outputs": [
        {
          "output_type": "stream",
          "name": "stdout",
          "text": [
            "            2014   2015    2016   2017\n",
            "Madhu      100.5  12000   20000  50000\n",
            "Kusum      150.8  18000   50000  60000\n",
            "Kinshuk    200.9  22000   70000  70000\n",
            "Ankit    30000.0  30000  100000  80000\n",
            "Shruti   40000.0  45000  125000  90000\n"
          ]
        }
      ]
    },
    {
      "cell_type": "code",
      "source": [
        "import pandas as pd\n",
        "data={'2018':[3,4,5,6,7,8]}\n",
        "df=pd.DataFrame(data,index=['a','b','c','d','e','f'])\n",
        "print(df)"
      ],
      "metadata": {
        "colab": {
          "base_uri": "https://localhost:8080/"
        },
        "id": "MGH7PBaZ2Uae",
        "outputId": "0f02ab6c-6e6e-485d-bf49-67a5fd2590b5"
      },
      "execution_count": null,
      "outputs": [
        {
          "output_type": "stream",
          "name": "stdout",
          "text": [
            "   2018\n",
            "a     3\n",
            "b     4\n",
            "c     5\n",
            "d     6\n",
            "e     7\n",
            "f     8\n"
          ]
        }
      ]
    }
  ]
}